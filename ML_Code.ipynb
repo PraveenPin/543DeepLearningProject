{
 "cells": [
  {
   "cell_type": "code",
   "execution_count": null,
   "id": "c3266c0d-fe85-4e84-9a28-88d8d31d0cb2",
   "metadata": {},
   "outputs": [],
   "source": [
    "# Import libraries\n",
    "from sklearn.model_selection import train_test_split\n",
    "import keras\n",
    "from keras.layers import Dense\n",
    "from keras.models import Model, Sequential\n",
    "\n",
    "import pandas as pd\n",
    "\n",
    "import tensorflow as tf\n",
    "\n",
    "import os\n",
    "from keras.layers import Dropout\n",
    "import mat\n",
    "\n",
    "print(tf.version.VERSION)"
   ]
  },
  {
   "cell_type": "code",
   "execution_count": null,
   "id": "197629b7-1390-4c20-a212-b0ad37768e11",
   "metadata": {},
   "outputs": [],
   "source": [
    "INPUT_DATA_DIR = \"preprocessed_input/\"\n",
    "TRAIN_DATA_COEFFICIENT = 0.70\n",
    "\n",
    "files = []\n",
    "\n",
    "for (dirpath, dirnames, filenames) in os.walk(INPUT_DATA_DIR):\n",
    "    files.extend(filenames)\n",
    "    break"
   ]
  },
  {
   "cell_type": "code",
   "execution_count": null,
   "id": "69bdb702-c3ca-44df-85d0-06d22799d3bf",
   "metadata": {},
   "outputs": [],
   "source": [
    "INPUT_DATA_DIR = \"preprocessed_input/\"\n",
    "\n",
    "\n",
    "def tf_data_generator(file_list, batch_size = 1):\n",
    "    counter = 0\n",
    "\n",
    "    while True:\n",
    "        fname = file_list[counter]\n",
    "\n",
    "        counter = (counter + 1) % len(file_list)\n",
    "        df = pd.read_csv(INPUT_DATA_DIR + fname)\n",
    "        df.dtypes\n",
    "        \n",
    "        \n",
    "        df.drop(['pickup_datetime'], axis=1, errors='ignore')\n",
    "        \n",
    "        input = df[['pickup_longitude','dropoff_longitude','pickup_latitude',\n",
    "                  'dropoff_latitude','passenger_count','year','weekday','weekend','hour_sin','month_sin',\n",
    "                  'delta_longitude','delta_latitude','distance_km','direction',\n",
    "                  'dropoff_manhattan','pickup_manhattan','peak_hours','JFK','LGA',\n",
    "                  'NWK']].copy().astype(float)\n",
    "        \n",
    "        \n",
    "        output = df['fare_amount'].copy()\n",
    "\n",
    "\n",
    "        for local_index in range(0, input.shape[0], batch_size):\n",
    "            input_local = input[local_index:(local_index + batch_size)]\n",
    "            output_local = output[local_index:(local_index + batch_size)]\n",
    "            print(output_local.shape)\n",
    "\n",
    "            yield input_local, output_local"
   ]
  },
  {
   "cell_type": "code",
   "execution_count": null,
   "id": "fc8f4b80-f9e7-4cec-807e-19eeb15d94f0",
   "metadata": {},
   "outputs": [],
   "source": [
    "train_file_names, test_file_names = train_test_split(files, test_size = 0.2, random_state = 321)\n",
    "\n",
    "train_file_names, validation_file_names = train_test_split(train_file_names, test_size = 0.15, random_state = 232)\n"
   ]
  },
  {
   "cell_type": "code",
   "execution_count": null,
   "id": "e8576a9c-2eb8-4185-9a86-2e76998006fa",
   "metadata": {},
   "outputs": [],
   "source": [
    "print(\"Number of train_files:\" ,len(train_file_names))\n",
    "print(\"Number of validation_files:\" ,len(validation_file_names))\n",
    "print(\"Number of test_files:\" ,len(test_file_names))"
   ]
  },
  {
   "cell_type": "code",
   "execution_count": 2,
   "id": "abd7c671-dc00-4928-bb6b-6a651835281e",
   "metadata": {},
   "outputs": [],
   "source": [
    "batch_size = 1000000\n",
    "train_dataset = tf.data.Dataset.from_generator(\n",
    "                                             generator=lambda: tf_data_generator(file_list=train_file_names, batch_size=batch_size), \n",
    "                                              output_shapes = ((None, 20), (None,)),\n",
    "                                              output_types = (tf.float32, tf.float32))\n",
    "\n",
    "validation_dataset = tf.data.Dataset.from_generator(generator=lambda: tf_data_generator(file_list=validation_file_names, batch_size=batch_size), \n",
    "                                                      output_shapes = ((None, 20), (None,)),\n",
    "                                                   output_types = (tf.float32, tf.float32))\n",
    "\n",
    "test_dataset = tf.data.Dataset.from_generator(generator=lambda: tf_data_generator(file_list=test_file_names, batch_size=batch_size), \n",
    "                                              output_shapes = ((None, 20), (None,)),\n",
    "                                             output_types = (tf.float32, tf.float32))\n"
   ]
  },
  {
   "cell_type": "code",
   "execution_count": 3,
   "id": "f0e3d799-8f5a-4ea6-a04d-856c21725a09",
   "metadata": {},
   "outputs": [],
   "source": [
    "def build_model():\n",
    "  model = Sequential()\n",
    "  model.add(Dense(20, activation='relu', input_dim=20))\n",
    "  model.add(Dropout(0.2))\n",
    "  model.add(Dense(128, activation='relu'))\n",
    "  model.add(Dropout(0.2))\n",
    "  model.add(Dense(64, activation='relu'))\n",
    "  model.add(Dropout(0.2))\n",
    "  model.add(Dense(32, activation='relu')) \n",
    "  model.add(Dropout(0.2))\n",
    "  model.add(Dense(16, activation='relu'))\n",
    "  model.add(Dense(1,  activation='relu'))\n",
    "\n",
    "  model.compile(loss='mse', optimizer = 'adam', metrics=['mse','mae',\"accuracy\"])\n",
    "  return model\n",
    "\n",
    "# create model\n",
    "model = build_model()\n",
    "model.summary()"
   ]
  },
  {
   "cell_type": "code",
   "execution_count": 4,
   "id": "703f8e27-54b5-4581-8e32-72d19da51133",
   "metadata": {},
   "outputs": [],
   "source": [
    "# callback_list = [keras.callbacks.EarlyStopping(monitor='val_loss', patience=1)]\n",
    "\n",
    "hist = model.fit(\n",
    "    steps_per_epoch=len(train_file_names),\n",
    "    use_multiprocessing=True,\n",
    "    workers=6,\n",
    "    x=train_dataset,\n",
    "    verbose=1,\n",
    "    max_queue_size=32,\n",
    "    epochs=100,\n",
    "#     callbacks=callback_list,\n",
    "    validation_data=test_dataset,\n",
    "    validation_steps=len(validation_file_names)\n",
    ")"
   ]
  },
  {
   "cell_type": "code",
   "execution_count": null,
   "id": "66fd19c1-71bb-4913-bee8-9fd26d351410",
   "metadata": {},
   "outputs": [],
   "source": [
    "model.save('new_model')\n",
    "\n",
    "print(\"Test loss: \", test_loss)\n",
    "print(\"Test accuracy:\", test_accuracy)"
   ]
  },
  {
   "cell_type": "code",
   "execution_count": null,
   "id": "2f85f106-d483-4ecc-b9d5-5d21912c53b4",
   "metadata": {},
   "outputs": [],
   "source": []
  }
 ],
 "metadata": {
  "kernelspec": {
   "display_name": "Python 3.8",
   "language": "python",
   "name": "python3"
  },
  "language_info": {
   "codemirror_mode": {
    "name": "ipython",
    "version": 3
   },
   "file_extension": ".py",
   "mimetype": "text/x-python",
   "name": "python",
   "nbconvert_exporter": "python",
   "pygments_lexer": "ipython3",
   "version": "3.8.10"
  }
 },
 "nbformat": 4,
 "nbformat_minor": 5
}
